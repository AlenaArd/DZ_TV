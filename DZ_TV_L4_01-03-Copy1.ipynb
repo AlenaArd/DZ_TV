{
 "cells": [
  {
   "cell_type": "code",
   "execution_count": null,
   "id": "d2863bbd",
   "metadata": {},
   "outputs": [],
   "source": [
    "Задание_1.\n",
    "\n",
    "О непрерывной равномерно распределенной случайной величине B известно, что ее дисперсия равна 0.2. \n",
    "Можно ли найти правую границу величины B и ее среднее значение зная, что левая граница равна 0.5? Если да, найдите ее.\n",
    "\n"
   ]
  },
  {
   "cell_type": "code",
   "execution_count": null,
   "id": "38725e33",
   "metadata": {},
   "outputs": [],
   "source": [
    "Обратимся к теории о непрерывной равномерно распределенной случайной величине. D(X) = (b-a)**2/12; M(X) =(a+b)/2\n",
    "Видно, что из формулы D(X) можно выразить левую границу В, а затем не составит труда и ее среднее значение."
   ]
  },
  {
   "cell_type": "code",
   "execution_count": 2,
   "id": "04e49f1b",
   "metadata": {},
   "outputs": [
    {
     "name": "stdout",
     "output_type": "stream",
     "text": [
      "правая граница b = 2.049193338482967\n",
      "среднее значение M(X) = 1.2745966692414834\n"
     ]
    }
   ],
   "source": [
    "a = 0.5\n",
    "d = 0.2\n",
    "b = (d*12)**0.5 + a\n",
    "print('правая граница b =', b)\n",
    "print('среднее значение M(X) =', (a+b)/2 )"
   ]
  },
  {
   "cell_type": "code",
   "execution_count": 16,
   "id": "440e07c8",
   "metadata": {},
   "outputs": [],
   "source": [
    "import numpy as np\n",
    "import matplotlib.pyplot as plt\n",
    "import pandas as pd\n",
    "from statistics import mean\n",
    "from matplotlib import pyplot as plt"
   ]
  },
  {
   "cell_type": "code",
   "execution_count": 14,
   "id": "dac19601",
   "metadata": {},
   "outputs": [
    {
     "name": "stdout",
     "output_type": "stream",
     "text": [
      "[1.62244006 1.70517267 1.27515599 ... 1.27253084 1.82798724 1.11828642]\n"
     ]
    }
   ],
   "source": [
    "# probability density function\n",
    "\n",
    "a = 0.5\n",
    "b = 2.049193338482967\n",
    "\n",
    "samples = np.random.uniform(a, b, size=10000)\n",
    "print(samples)"
   ]
  },
  {
   "cell_type": "code",
   "execution_count": null,
   "id": "3d139aa8",
   "metadata": {},
   "outputs": [],
   "source": [
    "def pdf_uniform(a, b, x):\n",
    "    return 1 / (b - a) if a <= x <= b else 0"
   ]
  },
  {
   "cell_type": "code",
   "execution_count": 17,
   "id": "5b82f36f",
   "metadata": {},
   "outputs": [
    {
     "data": {
      "text/plain": [
       "[<matplotlib.lines.Line2D at 0x188099b67f0>]"
      ]
     },
     "execution_count": 17,
     "metadata": {},
     "output_type": "execute_result"
    },
    {
     "data": {
      "image/png": "[encoded data removed]",
      "text/plain": [
       "<Figure size 432x288 with 1 Axes>"
      ]
     },
     "metadata": {
      "needs_background": "light"
     },
     "output_type": "display_data"
    }
   ],
   "source": [
    "ox = np.linspace(a, b, 100)\n",
    "oy = np.array([pdf_uniform(a, b, x) for x in ox])\n",
    "\n",
    "plt.hist(samples, density=True)\n",
    "plt.plot(ox, oy)"
   ]
  },
  {
   "cell_type": "code",
   "execution_count": null,
   "id": "0f17446a",
   "metadata": {},
   "outputs": [],
   "source": []
  },
  {
   "cell_type": "code",
   "execution_count": null,
   "id": "5b720b04",
   "metadata": {},
   "outputs": [],
   "source": [
    "Задание_2.   На сколько сигм (средних квадратических отклонений) отклоняется рост человека, \n",
    "равный 190 см, от математического ожидания роста в популяции, в которой M(X) = 178 и D(X) = 25?"
   ]
  },
  {
   "cell_type": "code",
   "execution_count": null,
   "id": "bb30a69c",
   "metadata": {},
   "outputs": [],
   "source": [
    "Мы знаем, что рост - одна из величин, которая может распределяться нормально. "
   ]
  },
  {
   "cell_type": "code",
   "execution_count": null,
   "id": "628981bb",
   "metadata": {},
   "outputs": [],
   "source": [
    "Математическое ожидание и дисперсия нормального распределения: M(X)=a,D(X)=𝜎**2\n",
    "Для вычисления разброса значений нормально распределённой случайной величины можно использовать следующие правила:\n",
    "\n",
    "Интерквартильный размах такой величины содержит 50% её вероятностной массы \n",
    "(т.е. с вероятностью 50% данная величина попадает в этот интервал).\n",
    "Интервал от  𝑎−𝜎  до  𝑎+𝜎  содержит около 68% вероятностной массы.\n",
    "От  𝑎−2𝜎  до  𝑎+2𝜎  — около 95% массы (правило двух сигм).\n",
    "От  𝑎−3𝜎  до  𝑎+3𝜎  — около 99.7% массы (правило трёх сигм).\n",
    "\n",
    "В нашем случае 𝜎=5 Пусть y искомое колличество сигм, тогда получается y= (190 - 178)/5 = 4.4\n",
    "Ответ: 5"
   ]
  },
  {
   "cell_type": "code",
   "execution_count": null,
   "id": "52bfb3d5",
   "metadata": {},
   "outputs": [],
   "source": [
    "Задание_3.\n",
    "Рост взрослого населения города X имеет нормальное распределение, причем, средний рост равен 174 см, \n",
    "а среднее квадратическое отклонение равно 8 см. Без использования сторонних библиотек (numpy, scipy, pandas и пр.) \n",
    "посчитайте, какова вероятность того, что случайным образом выбранный взрослый человек имеет рост:\n",
    "\n",
    "1)_больше 182 см?\n",
    "2)_больше 190 см?\n",
    "3)_от 166 см до 190 см?\n",
    "4)_от 166 см до 182 см?\n",
    "5)_от 158 см до 190 см?\n",
    "6)_не выше 150 см или не ниже 190 см?\n",
    "7)_не выше 150 см или не ниже 198 см?\n",
    "8)_ниже 166 см?"
   ]
  },
  {
   "cell_type": "code",
   "execution_count": null,
   "id": "b4dc40ea",
   "metadata": {},
   "outputs": [],
   "source": [
    "Математическое ожидание и дисперсия нормального распределения: M(X)=a,D(X)=𝜎**2\n",
    "В нашем случае: M(X)=174=a, D(X)=64, 𝜎=8 Для решения данной задачи воспользуемся формулой: \n",
    "                        P(x1<X<x2)= 1/2*(Ф((x2-a)/𝜎)-Ф((x1-a)/𝜎))\n",
    "    (Для вычисления Функции Лапласа удобно использовать калькулятор Desmos)\n",
    "    1)_больше 182 см? P(182<X<251)= 1/2*(Ф((251-174)/8)-Ф((182-174)/8))= 1/2*(Ф(9.625)-Ф((1))=\n",
    "                      =(1-0.682689492137)/2=0.158655253932\n",
    "    2)_больше 190 см? P(190<X<251)= 1/2*(Ф((251-174)/8)-Ф((190-174)/8))= 1/2*(Ф(9.625)-Ф((2))=\n",
    "                      =(1-0.954499736104)/2=0.022750131948\n",
    "    3)_от 166 см до 190 см? P(166<X<190)= 1/2*(Ф((190-174)/8)-Ф((166-174)/8))= 1/2*(Ф(2)-Ф((-1))=\n",
    "                      =(0.954499736104+0.682689492137)/2=0.818594614121\n",
    "    4)_от 166 см до 182 см? P(166<X<182)= 1/2*(Ф((182-174)/8)-Ф((166-174)/8))= 1/2*(Ф(1)-Ф((-1))=\n",
    "                      =0.682689492137\n",
    "    5)_от 158 см до 190 см? P(158<X<190)= 1/2*(Ф((190-174)/8)-Ф((158-174)/8))= 1/2*(Ф(2)-Ф((-2))=\n",
    "                      =0.954499736104\n",
    "    6)_не выше 150 см или не ниже 190 см? P= 1 - P(150<X<190) = 1 - 1/2*(Ф((190-174)/8)-Ф((150-174)/8))=\n",
    "                      =1- 1/2*(Ф(2)-Ф((-3))=1 -(0.954499736104+0.997300203937)/2=0.0241000299795\n",
    "    7)_не выше 150 см или не ниже 198 см? P= 1 - P(150<X<198) = 1 - 1/2*(Ф((198-174)/8)-Ф((150-174)/8))=\n",
    "                      =1- 1/2*(Ф(3)-Ф((-3))=1 -0.997300203937=0.002699796063\n",
    "    8)_ниже 166 см? P(166<X<251)= 1/2*(Ф((251-174)/8)-Ф((166-174)/8)) + p(166) = 1/2*(Ф(9.625)-Ф((-1)) + 0.0822180779349=\n",
    "                      =(1+0.682689492137)/2=0.841344746068 + 0.0822180779349=0.923562824003"
   ]
  },
  {
   "cell_type": "code",
   "execution_count": 49,
   "id": "51ca6065",
   "metadata": {},
   "outputs": [
    {
     "name": "stdout",
     "output_type": "stream",
     "text": [
      "9.625 -1.0\n"
     ]
    }
   ],
   "source": [
    "#для вычисления аргументов функции Лапласа\n",
    "m=174\n",
    "x2=251\n",
    "x1=166\n",
    "s=8\n",
    "f1=(x2-m)/s\n",
    "f2=(x1-m)/s \n",
    "print(f1, f2)"
   ]
  },
  {
   "cell_type": "code",
   "execution_count": null,
   "id": "27ffa104",
   "metadata": {},
   "outputs": [],
   "source": [
    "#для вычисления значений функции Лапласа  также можно использовать табличные значения"
   ]
  }
 ],
 "metadata": {
  "kernelspec": {
   "display_name": "Python 3",
   "language": "python",
   "name": "python3"
  },
  "language_info": {
   "codemirror_mode": {
    "name": "ipython",
    "version": 3
   },
   "file_extension": ".py",
   "mimetype": "text/x-python",
   "name": "python",
   "nbconvert_exporter": "python",
   "pygments_lexer": "ipython3",
   "version": "3.8.8"
  }
 },
 "nbformat": 4,
 "nbformat_minor": 5
}
