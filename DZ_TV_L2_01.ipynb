{
  "nbformat": 4,
  "nbformat_minor": 5,
  "metadata": {
    "kernelspec": {
      "display_name": "Python 3",
      "language": "python",
      "name": "python3"
    },
    "language_info": {
      "codemirror_mode": {
        "name": "ipython",
        "version": 3
      },
      "file_extension": ".py",
      "mimetype": "text/x-python",
      "name": "python",
      "nbconvert_exporter": "python",
      "pygments_lexer": "ipython3",
      "version": "3.8.8"
    },
    "colab": {
      "name": "DZ_TV_L2_01.ipynb",
      "provenance": [],
      "include_colab_link": true
    }
  },
  "cells": [
    {
      "cell_type": "markdown",
      "metadata": {
        "id": "view-in-github",
        "colab_type": "text"
      },
      "source": [
        "<a href=\"https://colab.research.google.com/github/AlenaArd/Kurs_3_TV/blob/main/DZ_TV_L2_01.ipynb\" target=\"_parent\"><img src=\"https://colab.research.google.com/assets/colab-badge.svg\" alt=\"Open In Colab\"/></a>"
      ]
    },
    {
      "cell_type": "code",
      "metadata": {
        "id": "d2863bbd"
      },
      "source": [
        "Задание_1.\n",
        "Контрольная работа состоит из пяти вопросов. \n",
        "На каждый вопрос приведено четыре варианта ответа, \n",
        "один из которых правильный. \n",
        "Составьте закон распределения числа правильных ответов при простом угадывании. \n",
        "Найдите M(X), D(X).\n",
        "\n"
      ],
      "id": "d2863bbd",
      "execution_count": null,
      "outputs": []
    },
    {
      "cell_type": "code",
      "metadata": {
        "id": "4ebc11e9"
      },
      "source": [
        "Пусть  𝑋  — колличество правильно угаданных ответов. Вот ее закон распределения:\n",
        "        𝑥 \t\t0\t\t\t\t1\t\t\t\t2\t\t\t\t3\t\t\t\t4\t\t\t\t5\n",
        "𝑃(𝑋=𝑥)\t0.2373046875\t0.3955078125\t0.26367187\t\t0.087890625\t\t0.0146484375\t0.0009765625\n"
      ],
      "id": "4ebc11e9",
      "execution_count": null,
      "outputs": []
    },
    {
      "cell_type": "markdown",
      "metadata": {
        "id": "72cbc4bf"
      },
      "source": [
        "<img spc=\"Task_1_1.jpg\"/>"
      ],
      "id": "72cbc4bf"
    },
    {
      "cell_type": "markdown",
      "metadata": {
        "id": "d6f25054"
      },
      "source": [
        "<img src=\"Task_1_1.jpg\" style =\"width:300 px; heigth:300 px\"/>\n"
      ],
      "id": "d6f25054"
    },
    {
      "cell_type": "code",
      "metadata": {
        "id": "d75b06bb",
        "outputId": "ae33187c-ab21-498a-f1d4-d1ddf008c7c4"
      },
      "source": [
        "import numpy as np\n",
        "x_values = np.arange(0, 6)\n",
        "\n",
        "print(x_values)"
      ],
      "id": "d75b06bb",
      "execution_count": null,
      "outputs": [
        {
          "name": "stdout",
          "output_type": "stream",
          "text": [
            "[0 1 2 3 4 5]\n"
          ]
        }
      ]
    },
    {
      "cell_type": "code",
      "metadata": {
        "id": "04e49f1b"
      },
      "source": [
        "x_probabilities = np.array([0.2373046875, 0.3955078125, 0.26367187, 0.087890625, 0.0146484375, \n",
        "                            0.0009765625])"
      ],
      "id": "04e49f1b",
      "execution_count": null,
      "outputs": []
    },
    {
      "cell_type": "code",
      "metadata": {
        "id": "5b720b04"
      },
      "source": [
        ""
      ],
      "id": "5b720b04",
      "execution_count": null,
      "outputs": []
    },
    {
      "cell_type": "code",
      "metadata": {
        "id": "b496fb56",
        "outputId": "141de670-61dd-459d-a9d2-84c26684457a"
      },
      "source": [
        "m = x_values.dot(x_probabilities)\n",
        "\n",
        "print(m)"
      ],
      "id": "b496fb56",
      "execution_count": null,
      "outputs": [
        {
          "name": "stdout",
          "output_type": "stream",
          "text": [
            "1.24999999\n"
          ]
        }
      ]
    },
    {
      "cell_type": "code",
      "metadata": {
        "id": "bb30a69c"
      },
      "source": [
        "При вычислении вручную на калькуляторе получилось mX = 1.25, а dX = 0.9375\n",
        "(не совпало, если вводить m (1.25 - совпадение результата дисперсии ближе)!!отличие почти 0.1 при m )\n",
        "В данном примере Биномиальный закон распределения случайной величины и \n",
        "𝑀(𝑋)=𝑛𝑝 = 5*0.25 = 1.25\n",
        "𝐷(𝑋)=𝑛𝑝(1−𝑝) = 1.25*0.75=0.9375"
      ],
      "id": "bb30a69c",
      "execution_count": null,
      "outputs": []
    },
    {
      "cell_type": "code",
      "metadata": {
        "id": "fd7ea713",
        "outputId": "d605f2f0-1585-40e4-a38b-5e2819450d49"
      },
      "source": [
        "dx_values = (x_values - 1.25)**2\n",
        "d = dx_values.dot(x_probabilities)\n",
        "\n",
        "print(dx_values)\n",
        "print(d)"
      ],
      "id": "fd7ea713",
      "execution_count": null,
      "outputs": [
        {
          "name": "stdout",
          "output_type": "stream",
          "text": [
            "[ 1.5625  0.0625  0.5625  3.0625  7.5625 14.0625]\n",
            "0.9374999971875\n"
          ]
        }
      ]
    },
    {
      "cell_type": "code",
      "metadata": {
        "id": "d22ee725",
        "outputId": "187aa5cf-b2cf-4bfc-9bff-26a7aecbd1d5"
      },
      "source": [
        "dx_values = x_values - m\n",
        "print(dx_values)\n"
      ],
      "id": "d22ee725",
      "execution_count": null,
      "outputs": [
        {
          "name": "stdout",
          "output_type": "stream",
          "text": [
            "[-0.9375  0.0625  1.0625  2.0625  3.0625  4.0625]\n"
          ]
        }
      ]
    },
    {
      "cell_type": "code",
      "metadata": {
        "id": "25bda74c",
        "outputId": "367dccdd-cd7f-4072-83a8-fa58422d91ae"
      },
      "source": [
        "d2x_values = dx_values**2\n",
        "print(d2x_values)"
      ],
      "id": "25bda74c",
      "execution_count": null,
      "outputs": [
        {
          "name": "stdout",
          "output_type": "stream",
          "text": [
            "[8.78906245e-01 3.90625035e-03 1.12890626e+00 4.25390626e+00\n",
            " 9.37890627e+00 1.65039063e+01]\n"
          ]
        }
      ]
    },
    {
      "cell_type": "markdown",
      "metadata": {
        "id": "2c56b73d"
      },
      "source": [
        "<img src=\"Task_1_2.jpg\"/>\n"
      ],
      "id": "2c56b73d"
    },
    {
      "cell_type": "code",
      "metadata": {
        "id": "6287ccd6"
      },
      "source": [
        ""
      ],
      "id": "6287ccd6",
      "execution_count": null,
      "outputs": []
    }
  ]
}