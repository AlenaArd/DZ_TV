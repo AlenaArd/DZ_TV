{
 "cells": [
  {
   "cell_type": "code",
   "execution_count": null,
   "id": "d2863bbd",
   "metadata": {},
   "outputs": [],
   "source": [
    "Задание_1.\n",
    "Контрольная работа состоит из пяти вопросов. \n",
    "На каждый вопрос приведено четыре варианта ответа, \n",
    "один из которых правильный. \n",
    "Составьте закон распределения числа правильных ответов при простом угадывании. \n",
    "Найдите M(X), D(X).\n",
    "\n"
   ]
  },
  {
   "cell_type": "code",
   "execution_count": null,
   "id": "4ebc11e9",
   "metadata": {},
   "outputs": [],
   "source": [
    "Пусть  𝑋  — колличество правильно угаданных ответов. Вот ее закон распределения:\n",
    "        𝑥 \t\t0\t\t\t\t1\t\t\t\t2\t\t\t\t3\t\t\t\t4\t\t\t\t5\n",
    "𝑃(𝑋=𝑥)\t0.2373046875\t0.3955078125\t0.26367187\t\t0.087890625\t\t0.0146484375\t0.0009765625\n"
   ]
  },
  {
   "cell_type": "markdown",
   "id": "72cbc4bf",
   "metadata": {},
   "source": [
    "<img spc=\"Task_1_1.jpg\"/>"
   ]
  },
  {
   "cell_type": "markdown",
   "id": "d6f25054",
   "metadata": {},
   "source": [
    "<img src=\"Task_1_1.jpg\" style =\"width:300 px; heigth:300 px\"/>\n"
   ]
  },
  {
   "cell_type": "code",
   "execution_count": 2,
   "id": "d75b06bb",
   "metadata": {},
   "outputs": [
    {
     "name": "stdout",
     "output_type": "stream",
     "text": [
      "[0 1 2 3 4 5]\n"
     ]
    }
   ],
   "source": [
    "import numpy as np\n",
    "x_values = np.arange(0, 6)\n",
    "\n",
    "print(x_values)"
   ]
  },
  {
   "cell_type": "code",
   "execution_count": 3,
   "id": "04e49f1b",
   "metadata": {},
   "outputs": [],
   "source": [
    "x_probabilities = np.array([0.2373046875, 0.3955078125, 0.26367187, 0.087890625, 0.0146484375, \n",
    "                            0.0009765625])"
   ]
  },
  {
   "cell_type": "code",
   "execution_count": null,
   "id": "5b720b04",
   "metadata": {},
   "outputs": [],
   "source": []
  },
  {
   "cell_type": "code",
   "execution_count": 4,
   "id": "b496fb56",
   "metadata": {},
   "outputs": [
    {
     "name": "stdout",
     "output_type": "stream",
     "text": [
      "1.24999999\n"
     ]
    }
   ],
   "source": [
    "m = x_values.dot(x_probabilities)\n",
    "\n",
    "print(m)"
   ]
  },
  {
   "cell_type": "code",
   "execution_count": null,
   "id": "bb30a69c",
   "metadata": {},
   "outputs": [],
   "source": [
    "При вычислении вручную на калькуляторе получилось mX = 1.25, а dX = 0.9375\n",
    "(не совпало, если вводить m (1.25 - совпадение результата дисперсии ближе)!!отличие почти 0.1 при m )\n",
    "В данном примере Биномиальный закон распределения случайной величины и \n",
    "𝑀(𝑋)=𝑛𝑝 = 5*0.25 = 1.25\n",
    "𝐷(𝑋)=𝑛𝑝(1−𝑝) = 1.25*0.75=0.9375"
   ]
  },
  {
   "cell_type": "code",
   "execution_count": 18,
   "id": "fd7ea713",
   "metadata": {},
   "outputs": [
    {
     "name": "stdout",
     "output_type": "stream",
     "text": [
      "[ 1.5625  0.0625  0.5625  3.0625  7.5625 14.0625]\n",
      "0.9374999971875\n"
     ]
    }
   ],
   "source": [
    "dx_values = (x_values - 1.25)**2\n",
    "d = dx_values.dot(x_probabilities)\n",
    "\n",
    "print(dx_values)\n",
    "print(d)"
   ]
  },
  {
   "cell_type": "code",
   "execution_count": 16,
   "id": "d22ee725",
   "metadata": {},
   "outputs": [
    {
     "name": "stdout",
     "output_type": "stream",
     "text": [
      "[-0.9375  0.0625  1.0625  2.0625  3.0625  4.0625]\n"
     ]
    }
   ],
   "source": [
    "dx_values = x_values - m\n",
    "print(dx_values)\n"
   ]
  },
  {
   "cell_type": "code",
   "execution_count": 17,
   "id": "25bda74c",
   "metadata": {},
   "outputs": [
    {
     "name": "stdout",
     "output_type": "stream",
     "text": [
      "[8.78906245e-01 3.90625035e-03 1.12890626e+00 4.25390626e+00\n",
      " 9.37890627e+00 1.65039063e+01]\n"
     ]
    }
   ],
   "source": [
    "d2x_values = dx_values**2\n",
    "print(d2x_values)"
   ]
  },
  {
   "cell_type": "markdown",
   "id": "2c56b73d",
   "metadata": {},
   "source": [
    "<img src=\"Task_1_2.jpg\"/>\n"
   ]
  },
  {
   "cell_type": "code",
   "execution_count": null,
   "id": "6287ccd6",
   "metadata": {},
   "outputs": [],
   "source": []
  }
 ],
 "metadata": {
  "kernelspec": {
   "display_name": "Python 3",
   "language": "python",
   "name": "python3"
  },
  "language_info": {
   "codemirror_mode": {
    "name": "ipython",
    "version": 3
   },
   "file_extension": ".py",
   "mimetype": "text/x-python",
   "name": "python",
   "nbconvert_exporter": "python",
   "pygments_lexer": "ipython3",
   "version": "3.8.8"
  }
 },
 "nbformat": 4,
 "nbformat_minor": 5
}
