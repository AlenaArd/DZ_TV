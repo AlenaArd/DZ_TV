{
 "cells": [
  {
   "cell_type": "code",
   "execution_count": null,
   "id": "9119bd8c",
   "metadata": {},
   "outputs": [],
   "source": [
    "Задание_2./\n",
    "\n",
    "Вероятность попадания в цель при одном выстреле равна 0.01.\n",
    "Какова вероятность того, что число попаданий при 200 выстрелах будет не менее 5 и не более 10?"
   ]
  },
  {
   "cell_type": "code",
   "execution_count": null,
   "id": "255e76fc",
   "metadata": {},
   "outputs": [],
   "source": [
    "Пусть  𝑋  — колличество попаданий. Распределение Пуассона хорошо описывает счетчики событий. \n",
    "        𝑥  𝑎=𝑛𝑝 a=200*0.01=2\n",
    "𝑃(5<=𝑋<=10)= 𝑃(𝑋=5) + 𝑃(𝑋=5) + 𝑃(𝑋=6) + 𝑃(𝑋=7) + 𝑃(𝑋=8) + 𝑃(𝑋=9) + 𝑃(𝑋=10) "
   ]
  },
  {
   "cell_type": "markdown",
   "id": "47c0b934",
   "metadata": {},
   "source": [
    "<img spc=\"Task_1_1.jpg\"/>"
   ]
  },
  {
   "cell_type": "code",
   "execution_count": 9,
   "id": "f76631a0",
   "metadata": {},
   "outputs": [
    {
     "name": "stdout",
     "output_type": "stream",
     "text": [
      "[ 5  6  7  8  9 10]\n",
      "0.03608940886309672\n",
      "0.012029802954365574\n",
      "0.0034370865583901638\n",
      "0.0008592716395975409\n",
      "0.00019094925324389798\n",
      "3.8189850648779595e-05\n",
      "p= 0.052644709119342686\n"
     ]
    }
   ],
   "source": [
    "import numpy as np\n",
    "\n",
    "v = np.arange(5, 11)\n",
    "print(v)\n",
    "a = 2\n",
    "p=0\n",
    "for k in v:\n",
    "    pk=(a ** k) * (np.exp(-a)) / np.math.factorial(k)\n",
    "    print(pk)\n",
    "    p += pk\n",
    "print('p=', p)    "
   ]
  },
  {
   "cell_type": "code",
   "execution_count": null,
   "id": "b527a36d",
   "metadata": {},
   "outputs": [],
   "source": [
    "Задача 3/\n",
    "\n",
    "В условиях предыдущей задачи \n",
    "сколько выстрелов нужно сделать чтобы быть уверенным с вероятностью 0.9, что хотя бы 10 раз будет совершено попадание?"
   ]
  },
  {
   "cell_type": "code",
   "execution_count": null,
   "id": "e78061ca",
   "metadata": {},
   "outputs": [],
   "source": [
    "Пусть  𝑋  — колличество попаданий. Распределение Пуассона хорошо описывает счетчики событий. \n",
    "        𝑥  𝑎=𝑛𝑝 a- под\n",
    "𝑃(10<=𝑋) = 1 -(𝑃(𝑋=0) + 𝑃(𝑋=1) + 𝑃(𝑋=2) + 𝑃(𝑋=3) + 𝑃(𝑋=4) + 𝑃(𝑋=5) + 𝑃(𝑋=6) + 𝑃(𝑋=7) + 𝑃(𝑋=8) + 𝑃(𝑋=9)) "
   ]
  },
  {
   "cell_type": "code",
   "execution_count": 7,
   "id": "71937658",
   "metadata": {},
   "outputs": [
    {
     "name": "stdout",
     "output_type": "stream",
     "text": [
      "[0 1 2 3 4 5 6 7 8 9]\n",
      "0.9001760722984115\n"
     ]
    }
   ],
   "source": [
    "import numpy as np\n",
    "\n",
    "v = np.arange(0, 10)\n",
    "print(v)\n",
    "a = 14.21\n",
    "p=0\n",
    "for k in v:\n",
    "    p +=(a ** k) * (np.exp(-a)) / np.math.factorial(k)\n",
    "print(1-p)      "
   ]
  },
  {
   "cell_type": "code",
   "execution_count": 4,
   "id": "2dbea2a0",
   "metadata": {},
   "outputs": [
    {
     "name": "stdout",
     "output_type": "stream",
     "text": [
      "1421.0\n"
     ]
    }
   ],
   "source": [
    "a = 14.21\n",
    "p = 0.01\n",
    "print(a/p)"
   ]
  },
  {
   "cell_type": "code",
   "execution_count": null,
   "id": "b411094a",
   "metadata": {},
   "outputs": [],
   "source": []
  }
 ],
 "metadata": {
  "kernelspec": {
   "display_name": "Python 3",
   "language": "python",
   "name": "python3"
  },
  "language_info": {
   "codemirror_mode": {
    "name": "ipython",
    "version": 3
   },
   "file_extension": ".py",
   "mimetype": "text/x-python",
   "name": "python",
   "nbconvert_exporter": "python",
   "pygments_lexer": "ipython3",
   "version": "3.8.8"
  }
 },
 "nbformat": 4,
 "nbformat_minor": 5
}
